{
 "cells": [
  {
   "cell_type": "code",
   "execution_count": 36,
   "metadata": {},
   "outputs": [],
   "source": [
    "import pandas as pd\n",
    "import numpy as np\n",
    "import matplotlib.pyplot as plt\n",
    "import statsmodels.api as sm\n",
    "from statsmodels.formula.api import ols\n",
    "import seaborn as sns\n",
    "from sklearn.model_selection import train_test_split\n",
    "from sklearn.preprocessing import MinMaxScaler\n",
    "from sklearn import datasets, linear_model\n",
    "from sklearn.metrics import mean_squared_error, r2_score\n",
    "from sklearn.linear_model import LinearRegression\n",
    "from sklearn.linear_model import Ridge\n"
   ]
  },
  {
   "cell_type": "code",
   "execution_count": 3,
   "metadata": {},
   "outputs": [],
   "source": [
    "data= [[10000, 68.32, 68.35, 68.30],\n",
    "[20000, 136.78, 136.68, 136.80],\n",
    "[30000, 204.98, 205.02, 204.98],\n",
    "[40000, 273.85, 273.85, 273.80],\n",
    "[50000, 342.70, 342.63, 342.63],\n",
    "[60000, 411.30, 411.35, 411.28],\n",
    "[70000, 480.65, 480.60, 480.63],\n",
    "[80000, 549.85, 549.85, 549.83],\n",
    "[90000, 619.00, 619.02, 619.10],\n",
    "[100000, 688.70, 688.62, 688.58]]"
   ]
  },
  {
   "cell_type": "code",
   "execution_count": 4,
   "metadata": {},
   "outputs": [
    {
     "data": {
      "text/html": [
       "<div>\n",
       "<style scoped>\n",
       "    .dataframe tbody tr th:only-of-type {\n",
       "        vertical-align: middle;\n",
       "    }\n",
       "\n",
       "    .dataframe tbody tr th {\n",
       "        vertical-align: top;\n",
       "    }\n",
       "\n",
       "    .dataframe thead th {\n",
       "        text-align: right;\n",
       "    }\n",
       "</style>\n",
       "<table border=\"1\" class=\"dataframe\">\n",
       "  <thead>\n",
       "    <tr style=\"text-align: right;\">\n",
       "      <th></th>\n",
       "      <th>load</th>\n",
       "      <th>run_1</th>\n",
       "      <th>run_2</th>\n",
       "      <th>run_3</th>\n",
       "    </tr>\n",
       "  </thead>\n",
       "  <tbody>\n",
       "    <tr>\n",
       "      <th>0</th>\n",
       "      <td>10000</td>\n",
       "      <td>68.32</td>\n",
       "      <td>68.35</td>\n",
       "      <td>68.30</td>\n",
       "    </tr>\n",
       "    <tr>\n",
       "      <th>1</th>\n",
       "      <td>20000</td>\n",
       "      <td>136.78</td>\n",
       "      <td>136.68</td>\n",
       "      <td>136.80</td>\n",
       "    </tr>\n",
       "    <tr>\n",
       "      <th>2</th>\n",
       "      <td>30000</td>\n",
       "      <td>204.98</td>\n",
       "      <td>205.02</td>\n",
       "      <td>204.98</td>\n",
       "    </tr>\n",
       "    <tr>\n",
       "      <th>3</th>\n",
       "      <td>40000</td>\n",
       "      <td>273.85</td>\n",
       "      <td>273.85</td>\n",
       "      <td>273.80</td>\n",
       "    </tr>\n",
       "    <tr>\n",
       "      <th>4</th>\n",
       "      <td>50000</td>\n",
       "      <td>342.70</td>\n",
       "      <td>342.63</td>\n",
       "      <td>342.63</td>\n",
       "    </tr>\n",
       "    <tr>\n",
       "      <th>5</th>\n",
       "      <td>60000</td>\n",
       "      <td>411.30</td>\n",
       "      <td>411.35</td>\n",
       "      <td>411.28</td>\n",
       "    </tr>\n",
       "    <tr>\n",
       "      <th>6</th>\n",
       "      <td>70000</td>\n",
       "      <td>480.65</td>\n",
       "      <td>480.60</td>\n",
       "      <td>480.63</td>\n",
       "    </tr>\n",
       "    <tr>\n",
       "      <th>7</th>\n",
       "      <td>80000</td>\n",
       "      <td>549.85</td>\n",
       "      <td>549.85</td>\n",
       "      <td>549.83</td>\n",
       "    </tr>\n",
       "    <tr>\n",
       "      <th>8</th>\n",
       "      <td>90000</td>\n",
       "      <td>619.00</td>\n",
       "      <td>619.02</td>\n",
       "      <td>619.10</td>\n",
       "    </tr>\n",
       "    <tr>\n",
       "      <th>9</th>\n",
       "      <td>100000</td>\n",
       "      <td>688.70</td>\n",
       "      <td>688.62</td>\n",
       "      <td>688.58</td>\n",
       "    </tr>\n",
       "  </tbody>\n",
       "</table>\n",
       "</div>"
      ],
      "text/plain": [
       "     load   run_1   run_2   run_3\n",
       "0   10000   68.32   68.35   68.30\n",
       "1   20000  136.78  136.68  136.80\n",
       "2   30000  204.98  205.02  204.98\n",
       "3   40000  273.85  273.85  273.80\n",
       "4   50000  342.70  342.63  342.63\n",
       "5   60000  411.30  411.35  411.28\n",
       "6   70000  480.65  480.60  480.63\n",
       "7   80000  549.85  549.85  549.83\n",
       "8   90000  619.00  619.02  619.10\n",
       "9  100000  688.70  688.62  688.58"
      ]
     },
     "execution_count": 4,
     "metadata": {},
     "output_type": "execute_result"
    }
   ],
   "source": [
    "df=pd.DataFrame(data)\n",
    "df=df.rename(columns={0: \"load\", 1: \"run_1\",2: \"run_2\", 3: \"run_3\"})\n",
    "df"
   ]
  },
  {
   "cell_type": "code",
   "execution_count": 5,
   "metadata": {},
   "outputs": [
    {
     "data": {
      "image/png": "[encoded data removed]",
      "text/plain": [
       "<Figure size 432x288 with 1 Axes>"
      ]
     },
     "metadata": {
      "needs_background": "light"
     },
     "output_type": "display_data"
    }
   ],
   "source": [
    "plt.scatter(df.load, df.run_1)\n",
    "plt.scatter(df.load, df.run_2)\n",
    "plt.scatter(df.load, df.run_3)\n",
    "\n",
    "plt.show()"
   ]
  },
  {
   "cell_type": "code",
   "execution_count": 6,
   "metadata": {},
   "outputs": [
    {
     "data": {
      "image/png": "[encoded data removed]",
      "text/plain": [
       "<Figure size 432x288 with 1 Axes>"
      ]
     },
     "metadata": {
      "needs_background": "light"
     },
     "output_type": "display_data"
    }
   ],
   "source": [
    "x = df.load\n",
    "y = df.run_1\n",
    "y2 = df.run_2\n",
    "y3 = df.run_3\n",
    "\n",
    "fig, ax = plt.subplots()\n",
    "\n",
    "ax.plot(x, y)\n",
    "ax.plot(x, y2)\n",
    "ax.plot(x, y3)\n",
    "plt.show()"
   ]
  },
  {
   "cell_type": "code",
   "execution_count": 26,
   "metadata": {
    "scrolled": true
   },
   "outputs": [],
   "source": [
    "X = df.iloc[:, 0].values.reshape(-1, 1) \n",
    "Y = df.iloc[:, 1].values.reshape(-1, 1) \n",
    "linear_regressor = LinearRegression() \n",
    "linear_regressor.fit(X, Y) \n",
    "Y_pred = linear_regressor.predict(X)"
   ]
  },
  {
   "cell_type": "code",
   "execution_count": 8,
   "metadata": {},
   "outputs": [
    {
     "data": {
      "image/png": "[encoded data removed]",
      "text/plain": [
       "<Figure size 432x288 with 1 Axes>"
      ]
     },
     "metadata": {
      "needs_background": "light"
     },
     "output_type": "display_data"
    }
   ],
   "source": [
    "plt.scatter(X, Y)\n",
    "plt.plot(X, Y_pred)\n",
    "plt.show()"
   ]
  },
  {
   "cell_type": "code",
   "execution_count": 19,
   "metadata": {},
   "outputs": [
    {
     "data": {
      "image/png": "[encoded data removed]",
      "text/plain": [
       "<Figure size 432x288 with 1 Axes>"
      ]
     },
     "metadata": {
      "needs_background": "light"
     },
     "output_type": "display_data"
    }
   ],
   "source": [
    "import matplotlib.pyplot as plt\n",
    "residuals = Y - Y_pred\n",
    "plt.scatter(residuals,Y_pred)\n",
    "\n",
    "plt.show()"
   ]
  },
  {
   "cell_type": "code",
   "execution_count": 33,
   "metadata": {},
   "outputs": [
    {
     "data": {
      "image/png": "[encoded data removed]",
      "text/plain": [
       "<Figure size 432x288 with 1 Axes>"
      ]
     },
     "metadata": {
      "needs_background": "light"
     },
     "output_type": "display_data"
    }
   ],
   "source": [
    "from sklearn.preprocessing import PolynomialFeatures\n",
    "from sklearn.pipeline import make_pipeline\n",
    "from sklearn.linear_model import LinearRegression\n",
    "from sklearn import preprocessing\n",
    "scaler = preprocessing.StandardScaler()\n",
    "degree = 4\n",
    "#polyreg_scaled = make_pipeline(PolynomialFeatures(degree),scaler,LinearRegression\n",
    "#polyreg_scaled.fit(X,Y)\n",
    "Y_pred_2=np.polyfit(df.load,df.run_1,3)\n",
    "#Y_pred_2 = polyreg_scaled.predict(X) # make predictions\n",
    "plt.scatter(df.load, df.run_1)\n",
    "#plt.plot(df.run_1, Y_pred_2)\n",
    "plt.show()"
   ]
  },
  {
   "cell_type": "code",
   "execution_count": 22,
   "metadata": {},
   "outputs": [
    {
     "name": "stdout",
     "output_type": "stream",
     "text": [
      "                            OLS Regression Results                            \n",
      "==============================================================================\n",
      "Dep. Variable:                   load   R-squared:                       1.000\n",
      "Model:                            OLS   Adj. R-squared:                  1.000\n",
      "Method:                 Least Squares   F-statistic:                 2.929e+05\n",
      "Date:                Sun, 01 Aug 2021   Prob (F-statistic):           6.96e-16\n",
      "Time:                        22:47:48   Log-Likelihood:                -57.372\n",
      "No. Observations:                  10   AIC:                             122.7\n",
      "Df Residuals:                       6   BIC:                             124.0\n",
      "Df Model:                           3                                         \n",
      "Covariance Type:            nonrobust                                         \n",
      "==============================================================================\n",
      "                 coef    std err          t      P>|t|      [0.025      0.975]\n",
      "------------------------------------------------------------------------------\n",
      "Intercept    214.2537     66.232      3.235      0.018      52.190     376.317\n",
      "run_1       -330.3674    702.428     -0.470      0.655   -2049.146    1388.411\n",
      "run_2        496.3870    644.997      0.770      0.471   -1081.863    2074.637\n",
      "run_3        -20.9154    607.547     -0.034      0.974   -1507.529    1465.698\n",
      "==============================================================================\n",
      "Omnibus:                        1.267   Durbin-Watson:                   0.571\n",
      "Prob(Omnibus):                  0.531   Jarque-Bera (JB):                0.919\n",
      "Skew:                          -0.633   Prob(JB):                        0.632\n",
      "Kurtosis:                       2.222   Cond. No.                     2.08e+04\n",
      "==============================================================================\n",
      "\n",
      "Warnings:\n",
      "[1] Standard Errors assume that the covariance matrix of the errors is correctly specified.\n",
      "[2] The condition number is large, 2.08e+04. This might indicate that there are\n",
      "strong multicollinearity or other numerical problems.\n"
     ]
    },
    {
     "name": "stderr",
     "output_type": "stream",
     "text": [
      "C:\\Users\\samru\\anaconda3\\lib\\site-packages\\scipy\\stats\\stats.py:1535: UserWarning: kurtosistest only valid for n>=20 ... continuing anyway, n=10\n",
      "  \"anyway, n=%i\" % int(n))\n"
     ]
    }
   ],
   "source": [
    "import statsmodels.api as sm\n",
    "import statsmodels.formula.api as smf\n",
    "\n",
    "results = smf.ols('load ~ run_1+run_2+run_3', data=df).fit()\n",
    "print(results.summary())"
   ]
  }
 ],
 "metadata": {
  "kernelspec": {
   "display_name": "Python 3",
   "language": "python",
   "name": "python3"
  },
  "language_info": {
   "codemirror_mode": {
    "name": "ipython",
    "version": 3
   },
   "file_extension": ".py",
   "mimetype": "text/x-python",
   "name": "python",
   "nbconvert_exporter": "python",
   "pygments_lexer": "ipython3",
   "version": "3.7.6"
  }
 },
 "nbformat": 4,
 "nbformat_minor": 4
}
